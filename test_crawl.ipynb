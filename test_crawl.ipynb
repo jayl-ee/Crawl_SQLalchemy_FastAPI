{
 "cells": [
  {
   "cell_type": "code",
   "execution_count": 9,
   "metadata": {},
   "outputs": [],
   "source": [
    "import json\n",
    "import aiohttp\n",
    "import asyncio\n",
    "from pandas import json_normalize\n",
    "from pathlib import Path\n",
    "import os\n",
    "import sys\n",
    "import math\n",
    "import ast\n",
    "from datetime import datetime\n",
    "\n",
    "# ### Directory Setting : DB_CONNECT ####################\n",
    "# BASE_DIR = Path(__file__).resolve().parent\n",
    "# print(BASE_DIR)\n",
    "# sys.path.append(os.path.join(BASE_DIR,'DB_CONNECT'))\n",
    "# sys.path.append(os.path.join(BASE_DIR,'DATA_TABLE'))\n",
    "# from db_connection import *"
   ]
  },
  {
   "cell_type": "code",
   "execution_count": 4,
   "metadata": {},
   "outputs": [
    {
     "name": "stdout",
     "output_type": "stream",
     "text": [
      "/Users/iseungjae/Desktop/SJL/crawl_db\n"
     ]
    }
   ],
   "source": [
    "from test import *"
   ]
  },
  {
   "cell_type": "code",
   "execution_count": 5,
   "metadata": {},
   "outputs": [],
   "source": [
    "crawl = AT_Crawl(db_session = 'engine',daterange='20230201')"
   ]
  },
  {
   "cell_type": "code",
   "execution_count": 6,
   "metadata": {},
   "outputs": [],
   "source": [
    "web_session = crawl.main()"
   ]
  },
  {
   "cell_type": "code",
   "execution_count": 7,
   "metadata": {},
   "outputs": [],
   "source": [
    "urls = crawl.get_urls(web_session, '20230201')"
   ]
  },
  {
   "cell_type": "code",
   "execution_count": 8,
   "metadata": {},
   "outputs": [
    {
     "data": {
      "text/plain": [
       "<coroutine object AT_Crawl.get_urls at 0x7fede06677c0>"
      ]
     },
     "execution_count": 8,
     "metadata": {},
     "output_type": "execute_result"
    }
   ],
   "source": [
    "urls"
   ]
  },
  {
   "cell_type": "code",
   "execution_count": 8,
   "metadata": {},
   "outputs": [
    {
     "ename": "TypeError",
     "evalue": "'coroutine' object is not subscriptable",
     "output_type": "error",
     "traceback": [
      "\u001b[0;31m---------------------------------------------------------------------------\u001b[0m",
      "\u001b[0;31mTypeError\u001b[0m                                 Traceback (most recent call last)",
      "\u001b[0;32m/var/folders/h1/nkkfndkn1cv9wb4wt3ylmd740000gn/T/ipykernel_6755/1363015905.py\u001b[0m in \u001b[0;36m<module>\u001b[0;34m\u001b[0m\n\u001b[1;32m      1\u001b[0m \u001b[0;31m# for url in urls:\u001b[0m\u001b[0;34m\u001b[0m\u001b[0;34m\u001b[0m\u001b[0m\n\u001b[1;32m      2\u001b[0m \u001b[0;31m#     crawl.get_json2df(web_session, url)\u001b[0m\u001b[0;34m\u001b[0m\u001b[0;34m\u001b[0m\u001b[0m\n\u001b[0;32m----> 3\u001b[0;31m \u001b[0mcrawl\u001b[0m\u001b[0;34m.\u001b[0m\u001b[0mget_json2df\u001b[0m\u001b[0;34m(\u001b[0m\u001b[0mweb_session\u001b[0m\u001b[0;34m,\u001b[0m \u001b[0murls\u001b[0m\u001b[0;34m[\u001b[0m\u001b[0;36m0\u001b[0m\u001b[0;34m]\u001b[0m\u001b[0;34m)\u001b[0m\u001b[0;34m\u001b[0m\u001b[0;34m\u001b[0m\u001b[0m\n\u001b[0m",
      "\u001b[0;31mTypeError\u001b[0m: 'coroutine' object is not subscriptable"
     ]
    }
   ],
   "source": [
    "# for url in urls:\n",
    "#     crawl.get_json2df(web_session, url)\n",
    "crawl.get_json2df(web_session, urls[0])"
   ]
  },
  {
   "cell_type": "code",
   "execution_count": null,
   "metadata": {},
   "outputs": [],
   "source": []
  },
  {
   "cell_type": "code",
   "execution_count": null,
   "metadata": {},
   "outputs": [],
   "source": []
  },
  {
   "cell_type": "code",
   "execution_count": null,
   "metadata": {},
   "outputs": [],
   "source": []
  },
  {
   "cell_type": "code",
   "execution_count": 2,
   "metadata": {},
   "outputs": [],
   "source": [
    "\n",
    "class DB_CONNECT():\n",
    "    def __init__(self):\n",
    "        config = DB_CONFIG()\n",
    "\n",
    "        self.db = config.get_connection('DB')\n",
    "        self.server_name = config.get_connection('SERVER_NAME')\n",
    "        self.port = config.get_connection('PORT')\n",
    "        self.db_name = config.get_connection('DB_NAME')\n",
    "        self.id = config.get_connection('POSTGRES_ID')\n",
    "        self.pw = config.get_connection('POSTGRES_PSSD')\n",
    "    \n",
    "    def engine_connect(self):\n",
    "        self.DB_URL = f\"{self.db}://{self.id}:{self.pw}@{self.server_name}:{self.port}/{self.db_name}\"\n",
    "        self.engine = create_engine(self.DB_URL)\n",
    "\n",
    "        return self.engine\n",
    "        \n",
    "    def sessionmaker(self, engine):\n",
    "        self.Sess = sessionmaker()\n",
    "        self.Sess(bind=engine) \n",
    "\n",
    "        return self.Sess"
   ]
  },
  {
   "cell_type": "code",
   "execution_count": 3,
   "metadata": {},
   "outputs": [],
   "source": [
    "class DB_CONFIG():\n",
    "    def __init__(self):\n",
    "        BASE_DIR = Path(__file__).resolve().parent\n",
    "        secret_file = f'{BASE_DIR}/secrets.json'\n",
    "\n",
    "        ## Loag JSON\n",
    "        with open(secret_file) as f:\n",
    "            self.secrets = json.loads(f.read())\n",
    "\n",
    "    def get_connection( self,  key: str ):\n",
    "\n",
    "            try:\n",
    "                return self.secrets[key]\n",
    "            except:\n",
    "                print('Please Check If you have a json file or check if your KEY exist in json file.') "
   ]
  },
  {
   "cell_type": "code",
   "execution_count": 12,
   "metadata": {},
   "outputs": [],
   "source": [
    "#https://at.agromarket.kr/openApi/price/sale.do?serviceKey= ** 61D7A892DCCD44FBABBF59E3C3F4D1C5\n",
    "# &apiType=json&pageNo= ** 1   &whsalCd=110001&saleDate= **  20230131\n",
    "\n",
    "URL = f\"https://at.agromarket.kr/openApi/price/sale.do\"\n",
    "SERVICE_KEY = \"61D7A892DCCD44FBABBF59E3C3F4D1C5\"\n",
    "\n"
   ]
  },
  {
   "cell_type": "code",
   "execution_count": 13,
   "metadata": {},
   "outputs": [],
   "source": []
  },
  {
   "cell_type": "code",
   "execution_count": 28,
   "metadata": {},
   "outputs": [
    {
     "data": {
      "text/plain": [
       "'https://at.agromarket.kr/openApi/price/sale.do?serviceKey=dfdfdfdf66'"
      ]
     },
     "execution_count": 28,
     "metadata": {},
     "output_type": "execute_result"
    }
   ],
   "source": [
    "a =\"https://at.agromarket.kr/openApi/price/sale.do?serviceKey={serviceKey}dfdf{ABC}\"\n",
    "a.format(serviceKey='dfdf', ABC=66)\n"
   ]
  },
  {
   "cell_type": "code",
   "execution_count": 26,
   "metadata": {},
   "outputs": [
    {
     "data": {
      "text/plain": [
       "[{'A': 1, 'B': 5, 'C': 8},\n",
       " {'A': 2, 'B': 6, 'C': 7},\n",
       " {'A': 3, 'B': 7, 'C': 56},\n",
       " {'A': 4, 'B': 8, 'C': 4}]"
      ]
     },
     "execution_count": 26,
     "metadata": {},
     "output_type": "execute_result"
    }
   ],
   "source": [
    "import pandas as pd\n",
    "df = pd.DataFrame({'A':[1,2,3,4], 'B':[5,6,7,8], 'C':[8,7,56,4]})\n",
    "\n",
    "d= df.to_dict(orient='records')\n",
    "d\n",
    "# [ d[i] for i in d]"
   ]
  },
  {
   "cell_type": "code",
   "execution_count": 35,
   "metadata": {},
   "outputs": [
    {
     "data": {
      "text/plain": [
       "[1, 5, 8]"
      ]
     },
     "execution_count": 35,
     "metadata": {},
     "output_type": "execute_result"
    }
   ],
   "source": [
    "[ i for i in d[0].values()]"
   ]
  },
  {
   "cell_type": "code",
   "execution_count": 11,
   "metadata": {},
   "outputs": [],
   "source": [
    "a = \"['saleDate','whsalName','whsalCd','smallName','totAmt','minAmt','maxAmt','avgAmt']\""
   ]
  },
  {
   "cell_type": "code",
   "execution_count": 12,
   "metadata": {},
   "outputs": [
    {
     "data": {
      "text/plain": [
       "['saleDate',\n",
       " 'whsalName',\n",
       " 'whsalCd',\n",
       " 'smallName',\n",
       " 'totAmt',\n",
       " 'minAmt',\n",
       " 'maxAmt',\n",
       " 'avgAmt']"
      ]
     },
     "execution_count": 12,
     "metadata": {},
     "output_type": "execute_result"
    }
   ],
   "source": [
    "import ast\n",
    "tmp = ast.literal_eval(a)\n",
    "tmp"
   ]
  },
  {
   "cell_type": "code",
   "execution_count": 25,
   "metadata": {},
   "outputs": [
    {
     "data": {
      "text/plain": [
       "['20230204', '20230205']"
      ]
     },
     "execution_count": 25,
     "metadata": {},
     "output_type": "execute_result"
    }
   ],
   "source": [
    "import datetime\n",
    "from dateutil.relativedelta import relativedelta\n",
    "import pandas as pd\n",
    "\n",
    "now = datetime.datetime.now()\n",
    "yesterday = now - relativedelta(days=1)\n",
    "yesterday = yesterday.strftime(\"%Y%m%d\")\n",
    "\n",
    "[ i.strftime('%Y%m%d') for i in pd.date_range('20230204',yesterday)]"
   ]
  },
  {
   "cell_type": "code",
   "execution_count": 20,
   "metadata": {},
   "outputs": [
    {
     "data": {
      "text/plain": [
       "'2023-02-05'"
      ]
     },
     "execution_count": 20,
     "metadata": {},
     "output_type": "execute_result"
    }
   ],
   "source": [
    "yesterday"
   ]
  },
  {
   "cell_type": "code",
   "execution_count": null,
   "metadata": {},
   "outputs": [],
   "source": []
  }
 ],
 "metadata": {
  "kernelspec": {
   "display_name": "base",
   "language": "python",
   "name": "python3"
  },
  "language_info": {
   "codemirror_mode": {
    "name": "ipython",
    "version": 3
   },
   "file_extension": ".py",
   "mimetype": "text/x-python",
   "name": "python",
   "nbconvert_exporter": "python",
   "pygments_lexer": "ipython3",
   "version": "3.9.13 (main, Aug 25 2022, 18:29:29) \n[Clang 12.0.0 ]"
  },
  "orig_nbformat": 4,
  "vscode": {
   "interpreter": {
    "hash": "40d3a090f54c6569ab1632332b64b2c03c39dcf918b08424e98f38b5ae0af88f"
   }
  }
 },
 "nbformat": 4,
 "nbformat_minor": 2
}
